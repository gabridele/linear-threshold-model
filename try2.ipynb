{
 "cells": [
  {
   "cell_type": "code",
   "execution_count": 17,
   "metadata": {},
   "outputs": [],
   "source": [
    "import numpy as np\n",
    "import csv\n",
    "from igraph import Graph, plot\n",
    "import matplotlib.pyplot as plt"
   ]
  },
  {
   "cell_type": "code",
   "execution_count": 45,
   "metadata": {},
   "outputs": [
    {
     "name": "stdout",
     "output_type": "stream",
     "text": [
      "(263, 263)\n"
     ]
    }
   ],
   "source": [
    "path_to_mtrx = '/home/gabridele/Desktop/connectome_sub-100610.csv'\n",
    "original_matrix = np.loadtxt(path_to_mtrx, delimiter=',')\n",
    "cropped_matrix = original_matrix[:original_matrix.shape[0]//4, :original_matrix.shape[1]//4]\n",
    "print(cropped_matrix.shape)"
   ]
  },
  {
   "cell_type": "code",
   "execution_count": 46,
   "metadata": {},
   "outputs": [],
   "source": [
    "# Load the connectivity matrix from a CSV file\n",
    "def load_connectivity_matrix(file_path):\n",
    "    return np.loadtxt(file_path, delimiter=',')\n",
    "\n",
    "# Set the activation threshold\n",
    "activation_threshold = 0.008\n",
    "\n",
    "# Select seed nodes randomly\n",
    "def select_seed_nodes(num_nodes, num_seeds):\n",
    "    return np.random.choice(num_nodes, num_seeds, replace=False)\n",
    "\n",
    "# Simulate activation using the Linear Threshold Model\n",
    "def simulate_activation(connectivity_matrix, seed_nodes):\n",
    "    num_nodes = connectivity_matrix.shape[0]\n",
    "    active_nodes = np.zeros(num_nodes, dtype=bool)\n",
    "    active_nodes[seed_nodes] = True\n",
    "    \n",
    "    while not np.all(active_nodes):\n",
    "        new_active_nodes = np.zeros(num_nodes, dtype=bool)\n",
    "        for node_idx in range(num_nodes):\n",
    "            if not active_nodes[node_idx]:\n",
    "                neighbors = connectivity_matrix[node_idx]\n",
    "                neighbors_activated = active_nodes[np.where(neighbors > 0)[0]]\n",
    "                if np.sum(neighbors_activated) * activation_threshold > np.sum(neighbors):\n",
    "                    new_active_nodes[node_idx] = True\n",
    "        \n",
    "        active_nodes = np.logical_or(active_nodes, new_active_nodes)\n",
    "    \n",
    "    return active_nodes\n",
    "\n",
    "# Main function\n",
    "def main():\n",
    "    # Load the connectivity matrix\n",
    "    connectivity_matrix = cropped_matrix\n",
    "    \n",
    "    # Select seed nodes\n",
    "    num_nodes = connectivity_matrix.shape[0]\n",
    "    num_seeds = 2\n",
    "    seed_nodes = select_seed_nodes(num_nodes, num_seeds)\n",
    "    \n",
    "    # Simulate activation\n",
    "    active_nodes = simulate_activation(connectivity_matrix, seed_nodes)\n",
    "    \n",
    "    # Plot the results\n",
    "    plt.figure(figsize=(8, 6))\n",
    "    plt.scatter(range(num_nodes), active_nodes, c='red', label='Activated Nodes')\n",
    "    plt.xlabel('Node Index')\n",
    "    plt.ylabel('Activation State')\n",
    "    plt.title('Activation State of Nodes')\n",
    "    plt.legend()\n",
    "    plt.show()\n",
    "\n",
    "\n",
    "if __name__ == \"__main__\":\n",
    "    main()\n"
   ]
  }
 ],
 "metadata": {
  "kernelspec": {
   "display_name": "neuroimg",
   "language": "python",
   "name": "python3"
  },
  "language_info": {
   "codemirror_mode": {
    "name": "ipython",
    "version": 3
   },
   "file_extension": ".py",
   "mimetype": "text/x-python",
   "name": "python",
   "nbconvert_exporter": "python",
   "pygments_lexer": "ipython3",
   "version": "3.12.2"
  }
 },
 "nbformat": 4,
 "nbformat_minor": 2
}
