{
 "cells": [
  {
   "cell_type": "code",
   "execution_count": 51,
   "metadata": {},
   "outputs": [],
   "source": [
    "import numpy as np\n",
    "import csv\n",
    "import matplotlib.pyplot as plt"
   ]
  },
  {
   "cell_type": "code",
   "execution_count": 52,
   "metadata": {},
   "outputs": [
    {
     "name": "stdout",
     "output_type": "stream",
     "text": [
      "(100, 100)\n"
     ]
    }
   ],
   "source": [
    "path_to_mtrx = '/home/gabridele/Desktop/connectome_sub-100610.csv'\n",
    "#path_to_mtrx = '/Users/gabrieledele/Desktop/Hub_identification/gabriele_sc_connectomes/connectome_sub-100610.csv'\n",
    "original_matrix = np.loadtxt(path_to_mtrx, delimiter=',')\n",
    "resized_matrix = original_matrix[:100, :100]\n",
    "print(resized_matrix.shape)"
   ]
  },
  {
   "cell_type": "code",
   "execution_count": 70,
   "metadata": {},
   "outputs": [
    {
     "name": "stdout",
     "output_type": "stream",
     "text": [
      "num_nodes: 1054\n",
      "active_nodes: [False False False ... False False False]\n",
      "active_nodes2: [ True  True]\n",
      "active_nodes3: [False False False ... False False False]\n",
      "Iteration 1: Number of active nodes = 4\n",
      "Iteration 2: Number of active nodes = 32\n",
      "Iteration 3: Number of active nodes = 721\n",
      "Iteration 4: Number of active nodes = 1054\n",
      "Simulation complete.\n"
     ]
    }
   ],
   "source": [
    "import numpy as np\n",
    "import matplotlib.pyplot as plt\n",
    "\n",
    "# Load the connectivity matrix from a CSV file\n",
    "def load_connectivity_matrix(file_path):\n",
    "    return np.loadtxt(file_path, delimiter=',')\n",
    "\n",
    "# Set the activation threshold\n",
    "## che non ci siano righe/cols con zero\n",
    "## to each subj their threshold\n",
    "## far andare simulazione\n",
    "activation_threshold = 0.008\n",
    "\n",
    "# Select seed nodes randomly\n",
    "def select_seed_nodes(num_nodes, num_seeds):\n",
    "    return np.random.choice(num_nodes, num_seeds, replace=False)\n",
    "\n",
    "def simulate_activation(connectivity_matrix, seed_nodes):\n",
    "    num_nodes = connectivity_matrix.shape[0]\n",
    "    print('num_nodes:', num_nodes)\n",
    "    active_nodes = np.zeros(num_nodes, dtype=bool)\n",
    "    print('active_nodes:', active_nodes) \n",
    "    # Everything should be false, because created a new array with same num nodes and zeroed out, except for the seeds\n",
    "    active_nodes[seed_nodes] = True\n",
    "    print('active_nodes2:', active_nodes[seed_nodes])\n",
    "    print('active_nodes3:', active_nodes)\n",
    "    \n",
    "    iteration = 0  # Initialize iteration counter\n",
    "    \n",
    "    while not np.all(active_nodes): # Checks if there are still inactive nodes. Continues till all nodes are activated\n",
    "        new_active_nodes = np.zeros(num_nodes, dtype=bool) # Array to store nodes that become activated in current iteration\n",
    "        # Initially all nodes are inactive\n",
    "        for node_idx in range(num_nodes): # Iterates over each node in the network\n",
    "            if not active_nodes[node_idx]: #  Checks if current node is inactive\n",
    "                neighbors = connectivity_matrix[node_idx] # Retrieves row corresponding to the current node, aka neighbors\n",
    "                # Selects activated neighbors of current node by filtering active_nodes array based on non-zero entries in neighbors row\n",
    "                neighbors_activated = active_nodes[np.where(neighbors > 0)[0]]\n",
    "                degree_of_node = np.sum(connectivity_matrix[node_idx] > 0)  # Degree of the node by counting non-zero entries in row\n",
    "                # Check if the number of activated neighbors exceeds the threshold\n",
    "                activation_condition = activation_threshold * degree_of_node < np.sum(neighbors_activated)\n",
    "                if activation_condition:\n",
    "                    # If so, then node becomes activated\n",
    "                    new_active_nodes[node_idx] = True\n",
    "        # Updates active_nodes array by performing a logical OR operation with new_active_nodes array \n",
    "        # Activated nodes from the current iteration are added to the overall set of activated nodes          \n",
    "        active_nodes = np.logical_or(active_nodes, new_active_nodes)\n",
    "\n",
    "        \n",
    "        iteration += 1\n",
    "        print(f\"Iteration {iteration}: Number of active nodes = {np.sum(active_nodes)}\")\n",
    "    \n",
    "    print(\"Simulation complete.\")\n",
    "    return active_nodes\n",
    "\n",
    "# Main function\n",
    "def main():\n",
    "    # Load the connectivity matrix\n",
    "    connectivity_matrix = original_matrix\n",
    "    \n",
    "    # Select seed nodes\n",
    "    num_nodes = connectivity_matrix.shape[0]\n",
    "    num_seeds = 2\n",
    "    seed_nodes = select_seed_nodes(num_nodes, num_seeds)\n",
    "    \n",
    "    # Simulate activation\n",
    "    activated_nodes_counts = simulate_activation(connectivity_matrix, seed_nodes)\n",
    "    \n",
    "    # Plot the results (Iterations vs. Number of Active Nodes)\n",
    "    #plt.figure(figsize=(8, 6))\n",
    "    #plt.plot(range(len(activated_nodes_counts)), activated_nodes_counts, marker='o', color='red')\n",
    "    #plt.xlabel('Iterations')\n",
    "    #plt.ylabel('Number of Active Nodes')\n",
    "    #plt.title('Progress of Activation')\n",
    "    #plt.grid(True)\n",
    "    #plt.show()\n",
    "    \n",
    "\n",
    "if __name__ == \"__main__\":\n",
    "    main()"
   ]
  }
 ],
 "metadata": {
  "kernelspec": {
   "display_name": "neuroimg",
   "language": "python",
   "name": "python3"
  },
  "language_info": {
   "codemirror_mode": {
    "name": "ipython",
    "version": 3
   },
   "file_extension": ".py",
   "mimetype": "text/x-python",
   "name": "python",
   "nbconvert_exporter": "python",
   "pygments_lexer": "ipython3",
   "version": "3.9.18"
  }
 },
 "nbformat": 4,
 "nbformat_minor": 2
}
